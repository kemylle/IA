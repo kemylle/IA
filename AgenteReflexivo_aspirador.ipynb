{
  "nbformat": 4,
  "nbformat_minor": 0,
  "metadata": {
    "colab": {
      "name": "AgenteReflexivo_aspirador.ipynb",
      "provenance": [],
      "collapsed_sections": [],
      "authorship_tag": "ABX9TyNstNEt5hjzdNxMe6Z/w0ns",
      "include_colab_link": true
    },
    "kernelspec": {
      "name": "python3",
      "display_name": "Python 3"
    }
  },
  "cells": [
    {
      "cell_type": "markdown",
      "metadata": {
        "id": "view-in-github",
        "colab_type": "text"
      },
      "source": [
        "<a href=\"https://colab.research.google.com/github/kemylle/IA/blob/master/AgenteReflexivo_aspirador.ipynb\" target=\"_parent\"><img src=\"https://colab.research.google.com/assets/colab-badge.svg\" alt=\"Open In Colab\"/></a>"
      ]
    },
    {
      "cell_type": "code",
      "metadata": {
        "id": "4Bjb-kSGczx9",
        "outputId": "5ca66269-5483-4c63-ce2f-b9070510a2d3",
        "colab": {
          "base_uri": "https://localhost:8080/",
          "height": 139
        }
      },
      "source": [
        "import random\n",
        "\n",
        "\n",
        "class Environment(object):\n",
        "    def __init__(self):\n",
        "        # 0 indica limpo e 1 sujo\n",
        "        self.locationCondition = {'A': '0', 'B': '0'}\n",
        "\n",
        "        # cria de foram aletoria a condição dos locais A e B\n",
        "        self.locationCondition['A'] = random.randint(0, 1)\n",
        "        self.locationCondition['B'] = random.randint(0, 1)\n",
        "\n",
        "\n",
        "class SimpleReflexVacuumAgent(Environment):\n",
        "    def __init__(self, Environment):\n",
        "        print (Environment.locationCondition)\n",
        "     \n",
        "        Score = 0\n",
        "        # Coloca o aspirador em um local aleatório\n",
        "        vacuumLocation = random.randint(0, 1)\n",
        "        # Se está no local A\n",
        "        if vacuumLocation == 0:\n",
        "            print (\"Aspirador está no local A\")\n",
        "            # E se A está sujo\n",
        "            if Environment.locationCondition['A'] == 1:\n",
        "                print (\"Local A éstá sujo\")\n",
        "                # limpar e marcar como limpo\n",
        "                Environment.locationCondition['A'] = 0;\n",
        "                Score += 1\n",
        "                print (\"Local A limpo com sucesso!\")\n",
        "\n",
        "                # Se B está sujo\n",
        "                if Environment.locationCondition['B'] == 1:\n",
        "                    print (\"Local B éstá sujo\")\n",
        "                    # Mover para o local B\n",
        "                    print (\"Aspirador se deslocando para local B...\")\n",
        "                    Score -= 1\n",
        "                    # Limpa e marca como limpo\n",
        "                    Environment.locationCondition['B'] = 0;\n",
        "                    Score += 1\n",
        "                    print (\"Local B limpo com sucesso!\")\n",
        "            else:\n",
        "\n",
        "                # Se B está sujo\n",
        "                if Environment.locationCondition['B'] == 1:\n",
        "                    print (\"Local B éstá sujo\")\n",
        "                    # Aspirador se move para local B\n",
        "                    Score -= 1\n",
        "                    print (\"Aspirador se deslocando para local B...\")\n",
        "                    # Limpa e marca como limpo\n",
        "                    Environment.locationCondition['B'] = 0;\n",
        "                    Score += 1\n",
        "                    print (\"Local B limpo com sucesso!\")\n",
        "\n",
        "        elif vacuumLocation == 1:\n",
        "            print (\"Aspirador é aleatoriamente colocado na posição B. \")\n",
        "            # Se B está sujo\n",
        "            if Environment.locationCondition['B'] == 1:\n",
        "                print (\"Local B éstá sujo\")\n",
        "                # limpa e marca como limpo\n",
        "                Environment.locationCondition['B'] = 0;\n",
        "                Score += 1\n",
        "                print (\"Local B limpo com sucesso!\")\n",
        "\n",
        "                # Se A está sujo\n",
        "                if Environment.locationCondition['A'] == 1:\n",
        "                    print (\"Local A está sujo\")                  \n",
        "                    Score -= 1\n",
        "                    print (\"Aspirador se deslocando para local A\")\n",
        "                    # limpa e marca como limpo\n",
        "                    Environment.locationCondition['A'] = 0;\n",
        "                    Score += 1\n",
        "                    print (\"Local A limpo com sucesso!\")\n",
        "            else:\n",
        "\n",
        "                # Se A está sujo\n",
        "                if Environment.locationCondition['A'] == 1:\n",
        "                    print (\"Local A está sujo\")                   \n",
        "                    print (\"Aspirador se deslocando para local A\")\n",
        "                    Score -= 1\n",
        "                    # limpa\n",
        "                    Environment.locationCondition['A'] = 0;\n",
        "                    Score += 1\n",
        "                    print (\"Local A limpo com sucesso!\")\n",
        "        \n",
        "        print (Environment.locationCondition)\n",
        "        print (\"Medida de performance: \" + str(Score))\n",
        "\n",
        "\n",
        "theEnvironment = Environment()\n",
        "theVacuum = SimpleReflexVacuumAgent(theEnvironment)"
      ],
      "execution_count": null,
      "outputs": [
        {
          "output_type": "stream",
          "text": [
            "{'A': 1, 'B': 0}\n",
            "Aspirador é aleatoriamente colocado na posição B. \n",
            "Local A está sujo\n",
            "Aspirador se deslocando para local A\n",
            "Local A limpo com sucesso!\n",
            "{'A': 0, 'B': 0}\n",
            "Medida de performance: 0\n"
          ],
          "name": "stdout"
        }
      ]
    }
  ]
}