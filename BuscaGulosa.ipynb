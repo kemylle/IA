{
  "nbformat": 4,
  "nbformat_minor": 0,
  "metadata": {
    "colab": {
      "name": "BuscaGulosa.ipynb",
      "provenance": [],
      "collapsed_sections": [],
      "mount_file_id": "1le3qelrWBIOpabzMN4OcgTdY06lvFw-z",
      "authorship_tag": "ABX9TyO3pNtKBogdiKF34HzWvueh",
      "include_colab_link": true
    },
    "kernelspec": {
      "name": "python3",
      "display_name": "Python 3"
    }
  },
  "cells": [
    {
      "cell_type": "markdown",
      "metadata": {
        "id": "view-in-github",
        "colab_type": "text"
      },
      "source": [
        "<a href=\"https://colab.research.google.com/github/kemylle/IA/blob/master/BuscaGulosa.ipynb\" target=\"_parent\"><img src=\"https://colab.research.google.com/assets/colab-badge.svg\" alt=\"Open In Colab\"/></a>"
      ]
    },
    {
      "cell_type": "code",
      "metadata": {
        "id": "bQK2T7DZuGHs"
      },
      "source": [
        "class Cidade:\n",
        "    def __init__(self, nome):\n",
        "        self.nome = nome\n",
        "        self.visitada = False\n",
        "        self.vizinhas = []\n",
        "        self.distObjetivo = 0\n",
        "        \n",
        "        \n",
        "    def addCidadeVizinha(self, cidade):\n",
        "        self.vizinhas.append(cidade)\n",
        "    \n",
        "    def addDistanciaObjetivo(self, valor):\n",
        "        self.distObjetivo = valor\n",
        "    \n",
        "    def listToString(self,s):      \n",
        "        str1 = \"\"  \n",
        "        for el in s:  \n",
        "          str1 += el.cidade.nome + \"  \" + str(el.distancia)  + \"\\n\"\n",
        "    \n",
        "        return str1  \n",
        "\n",
        "    def show(self):\n",
        "        print(\"Nome: \",self.nome,\"   /   Distancia para Objetivo: \",self.distObjetivo,\n",
        "              \"\\n\",\n",
        "              \"Cidades Vizinhas \\n\"+ self.listToString(self.vizinhas))\n"
      ],
      "execution_count": 1,
      "outputs": []
    },
    {
      "cell_type": "code",
      "metadata": {
        "id": "z1o8Q5cG8-kv"
      },
      "source": [
        "class CidadeVizinha:\n",
        "    def __init__(self, cidade, distancia):\n",
        "        self.cidade = cidade\n",
        "        self.distancia = distancia\n",
        "        "
      ],
      "execution_count": 2,
      "outputs": []
    },
    {
      "cell_type": "code",
      "metadata": {
        "id": "AMbT1_XUZxJ_"
      },
      "source": [
        "class BuscaGulosa:\n",
        "    def __init__(self, objetivo,listCidades):\n",
        "        self.objetivo = objetivo\n",
        "        self.achou = False\n",
        "        self.listCidades = listCidades\n",
        "        self.cidade_objetivo = self.getCidadeByName(objetivo)\n",
        "    \n",
        "    def exibirFronteira(self, fronteira):\n",
        "        for i  in range(0, len(fronteira)):\n",
        "            print(\"\\n\",fronteira[i].nome, \"  -->   \", fronteira[i].distObjetivo)\n",
        "    \n",
        "    def getCidadeByName(self,nome):\n",
        "      for i in self.listCidades:\n",
        "        if i.nome.strip() == nome.strip():\n",
        "          return i\n",
        "                \n",
        "    def buscar(self, inicio):\n",
        "        cidade_atual = self.getCidadeByName(inicio)\n",
        "        print(\"\\n\\n Cidade Atual: \" ,cidade_atual.nome)\n",
        "        cidade_atual.visitada = True\n",
        "        \n",
        "        if cidade_atual == self.cidade_objetivo:\n",
        "            self.achou = True\n",
        "        else: \n",
        "            #Lista das cidades vizinhas da cidade atual\n",
        "            self.fronteira = []\n",
        "            #Lista da distância das cidades vizinhas a atual\n",
        "            ldistanciasCidadesVizinhas = []\n",
        "            # Percorrer as cidades vizinhas adicionando a lista fronteira\n",
        "            for i in cidade_atual.vizinhas:                \n",
        "                if i.cidade.visitada == False:\n",
        "                    i.cidade.visitada = True\n",
        "                    self.fronteira.append(i.cidade)\n",
        "                    ldistanciasCidadesVizinhas.append(i.cidade.distObjetivo)\n",
        "\n",
        "            self.exibirFronteira(self.fronteira)\n",
        "            #print(\"custo minimo \",min(ldistanciasCidadesVizinhas))\n",
        "            #Se existem cidades vizinhas, descobrir a com menor distância para cidade atual\n",
        "            if len(self.fronteira) > 0:\n",
        "              cidadeMenorDist = None              \n",
        "              for i in self.fronteira:\n",
        "                if i.distObjetivo == min(ldistanciasCidadesVizinhas):                 \n",
        "                  cidadeMenorDist = i\n",
        "              # Vai para próxima cidade mais perto da atual             \n",
        "              BuscaGulosa.buscar(self,cidadeMenorDist.nome.strip())\n",
        "         "
      ],
      "execution_count": 3,
      "outputs": []
    },
    {
      "cell_type": "code",
      "metadata": {
        "id": "uKtHlO4p9V-L",
        "outputId": "cb740a98-7e4c-41e0-92d4-4ed0bc90a8b6",
        "colab": {
          "base_uri": "https://localhost:8080/",
          "height": 471
        }
      },
      "source": [
        "import csv\n",
        "import io\n",
        "import pandas as pd\n",
        "from google.colab import drive\n",
        "drive.mount(\"/content/drive\")\n",
        "path1 = \"/content/drive/My Drive/Colab Notebooks/Agentes E Busca/DistanciaHeuristica.txt\"\n",
        "df1 = pd.read_csv(path1)\n",
        "path2 = \"/content/drive/My Drive/Colab Notebooks/Agentes E Busca/DistanciaCidadesVizinhas.txt\"\n",
        "df2 = pd.read_csv(path2)\n",
        "\n",
        "listDistanciaHeuristica = df1.values.tolist()\n",
        "listDistanciaCidadesVizinhas = df2.values.tolist()\n",
        "\n",
        "listCidades = []\n",
        "\n",
        "#Percorre o arquivo que contém a lista das cidades, e a distância aproximada de cada uma até o objetivo\n",
        "for i in df1.values.tolist(): \n",
        "   # print(i)\n",
        "    cidadeA = Cidade(i[0])\n",
        "    cidadeA.addDistanciaObjetivo(i[1])\n",
        "    # Percorre o arquivo que contém a lista das cidades vizinhas, e a distância entre elas.\n",
        "    # Para conectar as cidades vizinhas numa lista de objetos do tipo Cidade\n",
        "    for j in df2.values.tolist(): \n",
        "      #print(j)\n",
        "      if i[0].strip() == j[0].strip():\n",
        "        cidadeB = Cidade(j[1]) \n",
        "        for z in df1.values.tolist():             \n",
        "          if z[0].strip() == j[1].strip():\n",
        "            cidadeB.addDistanciaObjetivo(z[1])       \n",
        "            \n",
        "        cidadeviz = CidadeVizinha(cidadeB,j[2])\n",
        "        cidadeA.addCidadeVizinha(cidadeviz)  \n",
        "    #cidadeA.show()\n",
        "    listCidades.append(cidadeA)\n",
        "   \n",
        "  \n",
        "busca = BuscaGulosa(\"Bucharest\",listCidades)\n",
        "busca.buscar(\"Arad\")\n",
        "   "
      ],
      "execution_count": 4,
      "outputs": [
        {
          "output_type": "stream",
          "text": [
            "Drive already mounted at /content/drive; to attempt to forcibly remount, call drive.mount(\"/content/drive\", force_remount=True).\n",
            "\n",
            "\n",
            " Cidade Atual:  Arad\n",
            "\n",
            " Zerind   -->    374\n",
            "\n",
            " Sibiu   -->    253\n",
            "\n",
            " Timisoara   -->    329\n",
            "\n",
            "\n",
            " Cidade Atual:  Sibiu\n",
            "\n",
            " Fagaras   -->    176\n",
            "\n",
            " Rimnicu Vilcea   -->    193\n",
            "\n",
            "\n",
            " Cidade Atual:  Fagaras\n",
            "\n",
            " Bucharest   -->    0\n",
            "\n",
            "\n",
            " Cidade Atual:  Bucharest\n"
          ],
          "name": "stdout"
        }
      ]
    }
  ]
}